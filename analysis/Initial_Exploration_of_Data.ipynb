{
 "cells": [
  {
   "cell_type": "code",
   "execution_count": 3,
   "metadata": {
    "id": "suKaW-0xGRlv",
    "ExecuteTime": {
     "end_time": "2024-04-09T00:37:34.368584400Z",
     "start_time": "2024-04-09T00:37:34.339438500Z"
    }
   },
   "outputs": [],
   "source": [
    "import pandas as pd\n",
    "import numpy as np\n",
    "\n",
    "from statsmodels.discrete.discrete_model import Logit\n",
    "from sklearn.linear_model import LogisticRegression\n",
    "from scipy.special import logit\n",
    "\n",
    "import seaborn as sns\n",
    "import matplotlib.pyplot as plt\n",
    "from netCDF4 import Dataset\n"
   ]
  },
  {
   "cell_type": "code",
   "execution_count": 72,
   "outputs": [],
   "source": [
    "# Library to work with netCDF files\n",
    "# https://github.com/Unidata/netcdf4-python/blob/master/examples/reading_netCDF.ipynb\n",
    "\n",
    "file_path = \"../data/gebco_2023_n51.5918_s45.022_w-68.4229_e-57.6123.nc\"\n",
    "# Open a .nc file (\"file_name\")\n",
    "dataset = Dataset(file_path)"
   ],
   "metadata": {
    "collapsed": false,
    "ExecuteTime": {
     "end_time": "2024-04-09T01:21:54.153571600Z",
     "start_time": "2024-04-09T01:21:54.131426600Z"
    }
   }
  },
  {
   "cell_type": "code",
   "execution_count": 15,
   "outputs": [
    {
     "name": "stdout",
     "output_type": "stream",
     "text": [
      "('lat', <class 'netCDF4._netCDF4.Dimension'>: name = 'lat', size = 1577)\n",
      "('lon', <class 'netCDF4._netCDF4.Dimension'>: name = 'lon', size = 2594)\n"
     ]
    },
    {
     "data": {
      "text/plain": "{'lat': <class 'netCDF4._netCDF4.Variable'>\n float64 lat(lat)\n     standard_name: latitude\n     long_name: latitude\n     units: degrees_north\n     axis: Y\n     sdn_parameter_urn: SDN:P01::ALATZZ01\n     sdn_parameter_name: Latitude north\n     sdn_uom_urn: SDN:P06::DEGN\n     sdn_uom_name: Degrees north\n unlimited dimensions: \n current shape = (1577,)\n filling on, default _FillValue of 9.969209968386869e+36 used,\n 'lon': <class 'netCDF4._netCDF4.Variable'>\n float64 lon(lon)\n     standard_name: longitude\n     long_name: longitude\n     units: degrees_east\n     axis: X\n     sdn_parameter_urn: SDN:P01::ALONZZ01\n     sdn_parameter_name: Longitude east\n     sdn_uom_urn: SDN:P06::DEGE\n     sdn_uom_name: Degrees east\n unlimited dimensions: \n current shape = (2594,)\n filling on, default _FillValue of 9.969209968386869e+36 used,\n 'elevation': <class 'netCDF4._netCDF4.Variable'>\n int16 elevation(lat, lon)\n     standard_name: height_above_mean_sea_level\n     long_name: Elevation relative to sea level\n     units: m\n     grid_mapping: crs\n     sdn_parameter_urn: SDN:P01::ALATZZ01\n     sdn_parameter_name: Sea floor height (above mean sea level) {bathymetric height}\n     sdn_uom_urn: SDN:P06::ULAA\n     sdn_uom_name: Metres\n unlimited dimensions: \n current shape = (1577, 2594)\n filling on, default _FillValue of -32767 used}"
     },
     "execution_count": 15,
     "metadata": {},
     "output_type": "execute_result"
    }
   ],
   "source": [
    "for d in dataset.dimensions.items():\n",
    "    print(d)\n",
    "dataset.variables"
   ],
   "metadata": {
    "collapsed": false,
    "ExecuteTime": {
     "end_time": "2024-04-09T00:44:16.914155500Z",
     "start_time": "2024-04-09T00:44:16.861505300Z"
    }
   }
  },
  {
   "cell_type": "code",
   "execution_count": 22,
   "outputs": [
    {
     "data": {
      "text/plain": "('lat', 'lon')"
     },
     "execution_count": 22,
     "metadata": {},
     "output_type": "execute_result"
    }
   ],
   "source": [
    "elevation = dataset.variables[\"elevation\"]\n",
    "elevation.dimensions\n"
   ],
   "metadata": {
    "collapsed": false,
    "ExecuteTime": {
     "end_time": "2024-04-09T00:48:32.318125100Z",
     "start_time": "2024-04-09T00:48:32.293071700Z"
    }
   }
  },
  {
   "cell_type": "code",
   "execution_count": 21,
   "outputs": [
    {
     "data": {
      "text/plain": "(1577, 2594)"
     },
     "execution_count": 21,
     "metadata": {},
     "output_type": "execute_result"
    }
   ],
   "source": [
    "elevation.shape\n"
   ],
   "metadata": {
    "collapsed": false,
    "ExecuteTime": {
     "end_time": "2024-04-09T00:48:30.068773700Z",
     "start_time": "2024-04-09T00:48:29.988974400Z"
    }
   }
  },
  {
   "cell_type": "code",
   "execution_count": 23,
   "outputs": [
    {
     "data": {
      "text/plain": "'m'"
     },
     "execution_count": 23,
     "metadata": {},
     "output_type": "execute_result"
    }
   ],
   "source": [
    "elevation.units"
   ],
   "metadata": {
    "collapsed": false,
    "ExecuteTime": {
     "end_time": "2024-04-09T00:51:52.133294Z",
     "start_time": "2024-04-09T00:51:52.083315Z"
    }
   }
  },
  {
   "cell_type": "code",
   "execution_count": 67,
   "outputs": [
    {
     "name": "stdout",
     "output_type": "stream",
     "text": [
      "<class 'netCDF4._netCDF4.Variable'>\n",
      "float64 lat(lat)\n",
      "    standard_name: latitude\n",
      "    long_name: latitude\n",
      "    units: degrees_north\n",
      "    axis: Y\n",
      "    sdn_parameter_urn: SDN:P01::ALATZZ01\n",
      "    sdn_parameter_name: Latitude north\n",
      "    sdn_uom_urn: SDN:P06::DEGN\n",
      "    sdn_uom_name: Degrees north\n",
      "unlimited dimensions: \n",
      "current shape = (1577,)\n",
      "filling on, default _FillValue of 9.969209968386869e+36 used\n",
      "<class 'netCDF4._netCDF4.Variable'>\n",
      "float64 lon(lon)\n",
      "    standard_name: longitude\n",
      "    long_name: longitude\n",
      "    units: degrees_east\n",
      "    axis: X\n",
      "    sdn_parameter_urn: SDN:P01::ALONZZ01\n",
      "    sdn_parameter_name: Longitude east\n",
      "    sdn_uom_urn: SDN:P06::DEGE\n",
      "    sdn_uom_name: Degrees east\n",
      "unlimited dimensions: \n",
      "current shape = (2594,)\n",
      "filling on, default _FillValue of 9.969209968386869e+36 used\n"
     ]
    }
   ],
   "source": [
    "lon_array, lat_array = dataset.variables['lat'], dataset.variables['lon']\n",
    "print(lon_array)\n",
    "print(lat_array)"
   ],
   "metadata": {
    "collapsed": false,
    "ExecuteTime": {
     "end_time": "2024-04-09T01:15:25.105322Z",
     "start_time": "2024-04-09T01:15:25.091062600Z"
    }
   }
  },
  {
   "cell_type": "code",
   "execution_count": null,
   "outputs": [],
   "source": [],
   "metadata": {
    "collapsed": false
   }
  },
  {
   "cell_type": "code",
   "execution_count": null,
   "outputs": [],
   "source": [],
   "metadata": {
    "collapsed": false
   }
  },
  {
   "cell_type": "code",
   "execution_count": 26,
   "outputs": [
    {
     "ename": "ValueError",
     "evalue": "operands could not be broadcast together with shapes (1577,) (2594,) ",
     "output_type": "error",
     "traceback": [
      "\u001B[1;31m---------------------------------------------------------------------------\u001B[0m",
      "\u001B[1;31mValueError\u001B[0m                                Traceback (most recent call last)",
      "Cell \u001B[1;32mIn[26], line 13\u001B[0m\n\u001B[0;32m     10\u001B[0m     \u001B[38;5;66;03m# Get 2D index for latvals and lonvals arrays from 1D index\u001B[39;00m\n\u001B[0;32m     11\u001B[0m     \u001B[38;5;28;01mreturn\u001B[39;00m np\u001B[38;5;241m.\u001B[39munravel_index(minindex_flattened, lats\u001B[38;5;241m.\u001B[39mshape)\n\u001B[1;32m---> 13\u001B[0m iy_min, ix_min \u001B[38;5;241m=\u001B[39m \u001B[43mgetclosest_ij\u001B[49m\u001B[43m(\u001B[49m\u001B[43mlatvals\u001B[49m\u001B[43m,\u001B[49m\u001B[43m \u001B[49m\u001B[43mlonvals\u001B[49m\u001B[43m,\u001B[49m\u001B[43m \u001B[49m\u001B[38;5;241;43m48\u001B[39;49m\u001B[43m,\u001B[49m\u001B[43m \u001B[49m\u001B[38;5;241;43m-\u001B[39;49m\u001B[38;5;241;43m64\u001B[39;49m\u001B[43m)\u001B[49m\n",
      "Cell \u001B[1;32mIn[26], line 7\u001B[0m, in \u001B[0;36mgetclosest_ij\u001B[1;34m(lats, lons, latpt, lonpt)\u001B[0m\n\u001B[0;32m      5\u001B[0m \u001B[38;5;28;01mdef\u001B[39;00m \u001B[38;5;21mgetclosest_ij\u001B[39m(lats,lons,latpt,lonpt):\n\u001B[0;32m      6\u001B[0m     \u001B[38;5;66;03m# find squared distance of every point on grid\u001B[39;00m\n\u001B[1;32m----> 7\u001B[0m     dist_sq \u001B[38;5;241m=\u001B[39m \u001B[43m(\u001B[49m\u001B[43mlats\u001B[49m\u001B[38;5;241;43m-\u001B[39;49m\u001B[43mlatpt\u001B[49m\u001B[43m)\u001B[49m\u001B[38;5;241;43m*\u001B[39;49m\u001B[38;5;241;43m*\u001B[39;49m\u001B[38;5;241;43m2\u001B[39;49m\u001B[43m \u001B[49m\u001B[38;5;241;43m+\u001B[39;49m\u001B[43m \u001B[49m\u001B[43m(\u001B[49m\u001B[43mlons\u001B[49m\u001B[38;5;241;43m-\u001B[39;49m\u001B[43mlonpt\u001B[49m\u001B[43m)\u001B[49m\u001B[38;5;241;43m*\u001B[39;49m\u001B[38;5;241;43m*\u001B[39;49m\u001B[38;5;241;43m2\u001B[39;49m  \n\u001B[0;32m      8\u001B[0m     \u001B[38;5;66;03m# 1D index of minimum dist_sq element\u001B[39;00m\n\u001B[0;32m      9\u001B[0m     minindex_flattened \u001B[38;5;241m=\u001B[39m dist_sq\u001B[38;5;241m.\u001B[39margmin()    \n",
      "File \u001B[1;32m~\\Projects\\watspeed_root\\venv0\\lib\\site-packages\\numpy\\ma\\core.py:4196\u001B[0m, in \u001B[0;36mMaskedArray.__add__\u001B[1;34m(self, other)\u001B[0m\n\u001B[0;32m   4194\u001B[0m \u001B[38;5;28;01mif\u001B[39;00m \u001B[38;5;28mself\u001B[39m\u001B[38;5;241m.\u001B[39m_delegate_binop(other):\n\u001B[0;32m   4195\u001B[0m     \u001B[38;5;28;01mreturn\u001B[39;00m \u001B[38;5;28mNotImplemented\u001B[39m\n\u001B[1;32m-> 4196\u001B[0m \u001B[38;5;28;01mreturn\u001B[39;00m \u001B[43madd\u001B[49m\u001B[43m(\u001B[49m\u001B[38;5;28;43mself\u001B[39;49m\u001B[43m,\u001B[49m\u001B[43m \u001B[49m\u001B[43mother\u001B[49m\u001B[43m)\u001B[49m\n",
      "File \u001B[1;32m~\\Projects\\watspeed_root\\venv0\\lib\\site-packages\\numpy\\ma\\core.py:1020\u001B[0m, in \u001B[0;36m_MaskedBinaryOperation.__call__\u001B[1;34m(self, a, b, *args, **kwargs)\u001B[0m\n\u001B[0;32m   1018\u001B[0m \u001B[38;5;28;01mwith\u001B[39;00m np\u001B[38;5;241m.\u001B[39merrstate():\n\u001B[0;32m   1019\u001B[0m     np\u001B[38;5;241m.\u001B[39mseterr(divide\u001B[38;5;241m=\u001B[39m\u001B[38;5;124m'\u001B[39m\u001B[38;5;124mignore\u001B[39m\u001B[38;5;124m'\u001B[39m, invalid\u001B[38;5;241m=\u001B[39m\u001B[38;5;124m'\u001B[39m\u001B[38;5;124mignore\u001B[39m\u001B[38;5;124m'\u001B[39m)\n\u001B[1;32m-> 1020\u001B[0m     result \u001B[38;5;241m=\u001B[39m \u001B[38;5;28mself\u001B[39m\u001B[38;5;241m.\u001B[39mf(da, db, \u001B[38;5;241m*\u001B[39margs, \u001B[38;5;241m*\u001B[39m\u001B[38;5;241m*\u001B[39mkwargs)\n\u001B[0;32m   1021\u001B[0m \u001B[38;5;66;03m# Get the mask for the result\u001B[39;00m\n\u001B[0;32m   1022\u001B[0m (ma, mb) \u001B[38;5;241m=\u001B[39m (getmask(a), getmask(b))\n",
      "\u001B[1;31mValueError\u001B[0m: operands could not be broadcast together with shapes (1577,) (2594,) "
     ]
    }
   ],
   "source": [
    "# extract lat/lon values (in degrees) to numpy arrays\n",
    "latvals = lat[:]; lonvals = lon[:] \n",
    "# a function to find the index of the point closest pt\n",
    "# (in squared distance) to give lat/lon value.\n",
    "def getclosest_ij(lats,lons,latpt,lonpt):\n",
    "    # find squared distance of every point on grid\n",
    "    dist_sq = (lats-latpt)**2 + (lons-lonpt)**2  \n",
    "    # 1D index of minimum dist_sq element\n",
    "    minindex_flattened = dist_sq.argmin()    \n",
    "    # Get 2D index for latvals and lonvals arrays from 1D index\n",
    "    return np.unravel_index(minindex_flattened, lats.shape)\n",
    "\n",
    "iy_min, ix_min = getclosest_ij(latvals, lonvals, 48, -64)"
   ],
   "metadata": {
    "collapsed": false,
    "ExecuteTime": {
     "end_time": "2024-04-09T00:53:44.796937200Z",
     "start_time": "2024-04-09T00:53:44.338533400Z"
    }
   }
  },
  {
   "cell_type": "code",
   "execution_count": null,
   "outputs": [],
   "source": [],
   "metadata": {
    "collapsed": false
   }
  },
  {
   "cell_type": "code",
   "execution_count": 71,
   "outputs": [
    {
     "data": {
      "text/plain": "masked_array(data=-5,\n             mask=False,\n       fill_value=999999,\n            dtype=int16)"
     },
     "execution_count": 71,
     "metadata": {},
     "output_type": "execute_result"
    }
   ],
   "source": [
    "i = np.abs(lon_array[:] - 46.53).argmin()\n",
    "j = np.abs(lat_array[:] - -64.67).argmin()\n",
    "i, j\n",
    "elevation[i,j]"
   ],
   "metadata": {
    "collapsed": false,
    "ExecuteTime": {
     "end_time": "2024-04-09T01:16:41.579766900Z",
     "start_time": "2024-04-09T01:16:41.564614800Z"
    }
   }
  },
  {
   "cell_type": "code",
   "execution_count": null,
   "outputs": [],
   "source": [],
   "metadata": {
    "collapsed": false
   }
  },
  {
   "cell_type": "code",
   "execution_count": null,
   "outputs": [],
   "source": [],
   "metadata": {
    "collapsed": false
   }
  },
  {
   "cell_type": "code",
   "execution_count": 74,
   "outputs": [
    {
     "data": {
      "text/plain": "<xarray.Dataset> Size: 8MB\nDimensions:    (lat: 1577, lon: 2594)\nCoordinates:\n  * lat        (lat) float64 13kB 45.02 45.03 45.03 45.04 ... 51.58 51.59 51.59\n  * lon        (lon) float64 21kB -68.42 -68.41 -68.41 ... -57.62 -57.62 -57.61\nData variables:\n    elevation  (lat, lon) int16 8MB ...\nAttributes: (12/36)\n    title:                           The GEBCO_2023 Grid - a continuous terra...\n    summary:                         The GEBCO_2023 Grid is a continuous, glo...\n    keywords:                        BATHYMETRY/SEAFLOOR TOPOGRAPHY, DIGITAL ...\n    Conventions:                     CF-1.6, ACDD-1.3\n    id:                              DOI: 10.5285/f98b053b-0cbc-6c23-e053-6c8...\n    naming_authority:                https://dx.doi.org\n    ...                              ...\n    geospatial_vertical_units:       meters\n    geospatial_vertical_resolution:  1.0\n    geospatial_vertical_positive:    up\n    identifier_product_doi:          DOI: 10.5285/f98b053b-0cbc-6c23-e053-6c8...\n    references:                      DOI: 10.5285/f98b053b-0cbc-6c23-e053-6c8...\n    node_offset:                     1.0",
      "text/html": "<div><svg style=\"position: absolute; width: 0; height: 0; overflow: hidden\">\n<defs>\n<symbol id=\"icon-database\" viewBox=\"0 0 32 32\">\n<path d=\"M16 0c-8.837 0-16 2.239-16 5v4c0 2.761 7.163 5 16 5s16-2.239 16-5v-4c0-2.761-7.163-5-16-5z\"></path>\n<path d=\"M16 17c-8.837 0-16-2.239-16-5v6c0 2.761 7.163 5 16 5s16-2.239 16-5v-6c0 2.761-7.163 5-16 5z\"></path>\n<path d=\"M16 26c-8.837 0-16-2.239-16-5v6c0 2.761 7.163 5 16 5s16-2.239 16-5v-6c0 2.761-7.163 5-16 5z\"></path>\n</symbol>\n<symbol id=\"icon-file-text2\" viewBox=\"0 0 32 32\">\n<path d=\"M28.681 7.159c-0.694-0.947-1.662-2.053-2.724-3.116s-2.169-2.030-3.116-2.724c-1.612-1.182-2.393-1.319-2.841-1.319h-15.5c-1.378 0-2.5 1.121-2.5 2.5v27c0 1.378 1.122 2.5 2.5 2.5h23c1.378 0 2.5-1.122 2.5-2.5v-19.5c0-0.448-0.137-1.23-1.319-2.841zM24.543 5.457c0.959 0.959 1.712 1.825 2.268 2.543h-4.811v-4.811c0.718 0.556 1.584 1.309 2.543 2.268zM28 29.5c0 0.271-0.229 0.5-0.5 0.5h-23c-0.271 0-0.5-0.229-0.5-0.5v-27c0-0.271 0.229-0.5 0.5-0.5 0 0 15.499-0 15.5 0v7c0 0.552 0.448 1 1 1h7v19.5z\"></path>\n<path d=\"M23 26h-14c-0.552 0-1-0.448-1-1s0.448-1 1-1h14c0.552 0 1 0.448 1 1s-0.448 1-1 1z\"></path>\n<path d=\"M23 22h-14c-0.552 0-1-0.448-1-1s0.448-1 1-1h14c0.552 0 1 0.448 1 1s-0.448 1-1 1z\"></path>\n<path d=\"M23 18h-14c-0.552 0-1-0.448-1-1s0.448-1 1-1h14c0.552 0 1 0.448 1 1s-0.448 1-1 1z\"></path>\n</symbol>\n</defs>\n</svg>\n<style>/* CSS stylesheet for displaying xarray objects in jupyterlab.\n *\n */\n\n:root {\n  --xr-font-color0: var(--jp-content-font-color0, rgba(0, 0, 0, 1));\n  --xr-font-color2: var(--jp-content-font-color2, rgba(0, 0, 0, 0.54));\n  --xr-font-color3: var(--jp-content-font-color3, rgba(0, 0, 0, 0.38));\n  --xr-border-color: var(--jp-border-color2, #e0e0e0);\n  --xr-disabled-color: var(--jp-layout-color3, #bdbdbd);\n  --xr-background-color: var(--jp-layout-color0, white);\n  --xr-background-color-row-even: var(--jp-layout-color1, white);\n  --xr-background-color-row-odd: var(--jp-layout-color2, #eeeeee);\n}\n\nhtml[theme=dark],\nbody[data-theme=dark],\nbody.vscode-dark {\n  --xr-font-color0: rgba(255, 255, 255, 1);\n  --xr-font-color2: rgba(255, 255, 255, 0.54);\n  --xr-font-color3: rgba(255, 255, 255, 0.38);\n  --xr-border-color: #1F1F1F;\n  --xr-disabled-color: #515151;\n  --xr-background-color: #111111;\n  --xr-background-color-row-even: #111111;\n  --xr-background-color-row-odd: #313131;\n}\n\n.xr-wrap {\n  display: block !important;\n  min-width: 300px;\n  max-width: 700px;\n}\n\n.xr-text-repr-fallback {\n  /* fallback to plain text repr when CSS is not injected (untrusted notebook) */\n  display: none;\n}\n\n.xr-header {\n  padding-top: 6px;\n  padding-bottom: 6px;\n  margin-bottom: 4px;\n  border-bottom: solid 1px var(--xr-border-color);\n}\n\n.xr-header > div,\n.xr-header > ul {\n  display: inline;\n  margin-top: 0;\n  margin-bottom: 0;\n}\n\n.xr-obj-type,\n.xr-array-name {\n  margin-left: 2px;\n  margin-right: 10px;\n}\n\n.xr-obj-type {\n  color: var(--xr-font-color2);\n}\n\n.xr-sections {\n  padding-left: 0 !important;\n  display: grid;\n  grid-template-columns: 150px auto auto 1fr 20px 20px;\n}\n\n.xr-section-item {\n  display: contents;\n}\n\n.xr-section-item input {\n  display: none;\n}\n\n.xr-section-item input + label {\n  color: var(--xr-disabled-color);\n}\n\n.xr-section-item input:enabled + label {\n  cursor: pointer;\n  color: var(--xr-font-color2);\n}\n\n.xr-section-item input:enabled + label:hover {\n  color: var(--xr-font-color0);\n}\n\n.xr-section-summary {\n  grid-column: 1;\n  color: var(--xr-font-color2);\n  font-weight: 500;\n}\n\n.xr-section-summary > span {\n  display: inline-block;\n  padding-left: 0.5em;\n}\n\n.xr-section-summary-in:disabled + label {\n  color: var(--xr-font-color2);\n}\n\n.xr-section-summary-in + label:before {\n  display: inline-block;\n  content: '►';\n  font-size: 11px;\n  width: 15px;\n  text-align: center;\n}\n\n.xr-section-summary-in:disabled + label:before {\n  color: var(--xr-disabled-color);\n}\n\n.xr-section-summary-in:checked + label:before {\n  content: '▼';\n}\n\n.xr-section-summary-in:checked + label > span {\n  display: none;\n}\n\n.xr-section-summary,\n.xr-section-inline-details {\n  padding-top: 4px;\n  padding-bottom: 4px;\n}\n\n.xr-section-inline-details {\n  grid-column: 2 / -1;\n}\n\n.xr-section-details {\n  display: none;\n  grid-column: 1 / -1;\n  margin-bottom: 5px;\n}\n\n.xr-section-summary-in:checked ~ .xr-section-details {\n  display: contents;\n}\n\n.xr-array-wrap {\n  grid-column: 1 / -1;\n  display: grid;\n  grid-template-columns: 20px auto;\n}\n\n.xr-array-wrap > label {\n  grid-column: 1;\n  vertical-align: top;\n}\n\n.xr-preview {\n  color: var(--xr-font-color3);\n}\n\n.xr-array-preview,\n.xr-array-data {\n  padding: 0 5px !important;\n  grid-column: 2;\n}\n\n.xr-array-data,\n.xr-array-in:checked ~ .xr-array-preview {\n  display: none;\n}\n\n.xr-array-in:checked ~ .xr-array-data,\n.xr-array-preview {\n  display: inline-block;\n}\n\n.xr-dim-list {\n  display: inline-block !important;\n  list-style: none;\n  padding: 0 !important;\n  margin: 0;\n}\n\n.xr-dim-list li {\n  display: inline-block;\n  padding: 0;\n  margin: 0;\n}\n\n.xr-dim-list:before {\n  content: '(';\n}\n\n.xr-dim-list:after {\n  content: ')';\n}\n\n.xr-dim-list li:not(:last-child):after {\n  content: ',';\n  padding-right: 5px;\n}\n\n.xr-has-index {\n  font-weight: bold;\n}\n\n.xr-var-list,\n.xr-var-item {\n  display: contents;\n}\n\n.xr-var-item > div,\n.xr-var-item label,\n.xr-var-item > .xr-var-name span {\n  background-color: var(--xr-background-color-row-even);\n  margin-bottom: 0;\n}\n\n.xr-var-item > .xr-var-name:hover span {\n  padding-right: 5px;\n}\n\n.xr-var-list > li:nth-child(odd) > div,\n.xr-var-list > li:nth-child(odd) > label,\n.xr-var-list > li:nth-child(odd) > .xr-var-name span {\n  background-color: var(--xr-background-color-row-odd);\n}\n\n.xr-var-name {\n  grid-column: 1;\n}\n\n.xr-var-dims {\n  grid-column: 2;\n}\n\n.xr-var-dtype {\n  grid-column: 3;\n  text-align: right;\n  color: var(--xr-font-color2);\n}\n\n.xr-var-preview {\n  grid-column: 4;\n}\n\n.xr-index-preview {\n  grid-column: 2 / 5;\n  color: var(--xr-font-color2);\n}\n\n.xr-var-name,\n.xr-var-dims,\n.xr-var-dtype,\n.xr-preview,\n.xr-attrs dt {\n  white-space: nowrap;\n  overflow: hidden;\n  text-overflow: ellipsis;\n  padding-right: 10px;\n}\n\n.xr-var-name:hover,\n.xr-var-dims:hover,\n.xr-var-dtype:hover,\n.xr-attrs dt:hover {\n  overflow: visible;\n  width: auto;\n  z-index: 1;\n}\n\n.xr-var-attrs,\n.xr-var-data,\n.xr-index-data {\n  display: none;\n  background-color: var(--xr-background-color) !important;\n  padding-bottom: 5px !important;\n}\n\n.xr-var-attrs-in:checked ~ .xr-var-attrs,\n.xr-var-data-in:checked ~ .xr-var-data,\n.xr-index-data-in:checked ~ .xr-index-data {\n  display: block;\n}\n\n.xr-var-data > table {\n  float: right;\n}\n\n.xr-var-name span,\n.xr-var-data,\n.xr-index-name div,\n.xr-index-data,\n.xr-attrs {\n  padding-left: 25px !important;\n}\n\n.xr-attrs,\n.xr-var-attrs,\n.xr-var-data,\n.xr-index-data {\n  grid-column: 1 / -1;\n}\n\ndl.xr-attrs {\n  padding: 0;\n  margin: 0;\n  display: grid;\n  grid-template-columns: 125px auto;\n}\n\n.xr-attrs dt,\n.xr-attrs dd {\n  padding: 0;\n  margin: 0;\n  float: left;\n  padding-right: 10px;\n  width: auto;\n}\n\n.xr-attrs dt {\n  font-weight: normal;\n  grid-column: 1;\n}\n\n.xr-attrs dt:hover span {\n  display: inline-block;\n  background: var(--xr-background-color);\n  padding-right: 10px;\n}\n\n.xr-attrs dd {\n  grid-column: 2;\n  white-space: pre-wrap;\n  word-break: break-all;\n}\n\n.xr-icon-database,\n.xr-icon-file-text2,\n.xr-no-icon {\n  display: inline-block;\n  vertical-align: middle;\n  width: 1em;\n  height: 1.5em !important;\n  stroke-width: 0;\n  stroke: currentColor;\n  fill: currentColor;\n}\n</style><pre class='xr-text-repr-fallback'>&lt;xarray.Dataset&gt; Size: 8MB\nDimensions:    (lat: 1577, lon: 2594)\nCoordinates:\n  * lat        (lat) float64 13kB 45.02 45.03 45.03 45.04 ... 51.58 51.59 51.59\n  * lon        (lon) float64 21kB -68.42 -68.41 -68.41 ... -57.62 -57.62 -57.61\nData variables:\n    elevation  (lat, lon) int16 8MB ...\nAttributes: (12/36)\n    title:                           The GEBCO_2023 Grid - a continuous terra...\n    summary:                         The GEBCO_2023 Grid is a continuous, glo...\n    keywords:                        BATHYMETRY/SEAFLOOR TOPOGRAPHY, DIGITAL ...\n    Conventions:                     CF-1.6, ACDD-1.3\n    id:                              DOI: 10.5285/f98b053b-0cbc-6c23-e053-6c8...\n    naming_authority:                https://dx.doi.org\n    ...                              ...\n    geospatial_vertical_units:       meters\n    geospatial_vertical_resolution:  1.0\n    geospatial_vertical_positive:    up\n    identifier_product_doi:          DOI: 10.5285/f98b053b-0cbc-6c23-e053-6c8...\n    references:                      DOI: 10.5285/f98b053b-0cbc-6c23-e053-6c8...\n    node_offset:                     1.0</pre><div class='xr-wrap' style='display:none'><div class='xr-header'><div class='xr-obj-type'>xarray.Dataset</div></div><ul class='xr-sections'><li class='xr-section-item'><input id='section-031374f0-e230-469e-9147-fe4806b3fb9a' class='xr-section-summary-in' type='checkbox' disabled ><label for='section-031374f0-e230-469e-9147-fe4806b3fb9a' class='xr-section-summary'  title='Expand/collapse section'>Dimensions:</label><div class='xr-section-inline-details'><ul class='xr-dim-list'><li><span class='xr-has-index'>lat</span>: 1577</li><li><span class='xr-has-index'>lon</span>: 2594</li></ul></div><div class='xr-section-details'></div></li><li class='xr-section-item'><input id='section-9a38cf45-0894-4610-84a7-386780df57b2' class='xr-section-summary-in' type='checkbox'  checked><label for='section-9a38cf45-0894-4610-84a7-386780df57b2' class='xr-section-summary' >Coordinates: <span>(2)</span></label><div class='xr-section-inline-details'></div><div class='xr-section-details'><ul class='xr-var-list'><li class='xr-var-item'><div class='xr-var-name'><span class='xr-has-index'>lat</span></div><div class='xr-var-dims'>(lat)</div><div class='xr-var-dtype'>float64</div><div class='xr-var-preview xr-preview'>45.02 45.03 45.03 ... 51.59 51.59</div><input id='attrs-7c30459b-4e5c-4e04-aa32-dd86df08ce97' class='xr-var-attrs-in' type='checkbox' ><label for='attrs-7c30459b-4e5c-4e04-aa32-dd86df08ce97' title='Show/Hide attributes'><svg class='icon xr-icon-file-text2'><use xlink:href='#icon-file-text2'></use></svg></label><input id='data-5c36ca18-d727-4045-8933-4b529f1a7141' class='xr-var-data-in' type='checkbox'><label for='data-5c36ca18-d727-4045-8933-4b529f1a7141' title='Show/Hide data repr'><svg class='icon xr-icon-database'><use xlink:href='#icon-database'></use></svg></label><div class='xr-var-attrs'><dl class='xr-attrs'><dt><span>standard_name :</span></dt><dd>latitude</dd><dt><span>long_name :</span></dt><dd>latitude</dd><dt><span>units :</span></dt><dd>degrees_north</dd><dt><span>axis :</span></dt><dd>Y</dd><dt><span>sdn_parameter_urn :</span></dt><dd>SDN:P01::ALATZZ01</dd><dt><span>sdn_parameter_name :</span></dt><dd>Latitude north</dd><dt><span>sdn_uom_urn :</span></dt><dd>SDN:P06::DEGN</dd><dt><span>sdn_uom_name :</span></dt><dd>Degrees north</dd></dl></div><div class='xr-var-data'><pre>array([45.022917, 45.027083, 45.03125 , ..., 51.58125 , 51.585417, 51.589583])</pre></div></li><li class='xr-var-item'><div class='xr-var-name'><span class='xr-has-index'>lon</span></div><div class='xr-var-dims'>(lon)</div><div class='xr-var-dtype'>float64</div><div class='xr-var-preview xr-preview'>-68.42 -68.41 ... -57.62 -57.61</div><input id='attrs-afd32a13-dddb-4d70-bc75-b1a28165b8df' class='xr-var-attrs-in' type='checkbox' ><label for='attrs-afd32a13-dddb-4d70-bc75-b1a28165b8df' title='Show/Hide attributes'><svg class='icon xr-icon-file-text2'><use xlink:href='#icon-file-text2'></use></svg></label><input id='data-8b7355e3-ba1e-4f25-9c1e-a9bc7e40ab4c' class='xr-var-data-in' type='checkbox'><label for='data-8b7355e3-ba1e-4f25-9c1e-a9bc7e40ab4c' title='Show/Hide data repr'><svg class='icon xr-icon-database'><use xlink:href='#icon-database'></use></svg></label><div class='xr-var-attrs'><dl class='xr-attrs'><dt><span>standard_name :</span></dt><dd>longitude</dd><dt><span>long_name :</span></dt><dd>longitude</dd><dt><span>units :</span></dt><dd>degrees_east</dd><dt><span>axis :</span></dt><dd>X</dd><dt><span>sdn_parameter_urn :</span></dt><dd>SDN:P01::ALONZZ01</dd><dt><span>sdn_parameter_name :</span></dt><dd>Longitude east</dd><dt><span>sdn_uom_urn :</span></dt><dd>SDN:P06::DEGE</dd><dt><span>sdn_uom_name :</span></dt><dd>Degrees east</dd></dl></div><div class='xr-var-data'><pre>array([-68.41875 , -68.414583, -68.410417, ..., -57.622917, -57.61875 ,\n       -57.614583])</pre></div></li></ul></div></li><li class='xr-section-item'><input id='section-990e8159-8854-44dd-8769-f1c4c21f6ddc' class='xr-section-summary-in' type='checkbox'  checked><label for='section-990e8159-8854-44dd-8769-f1c4c21f6ddc' class='xr-section-summary' >Data variables: <span>(1)</span></label><div class='xr-section-inline-details'></div><div class='xr-section-details'><ul class='xr-var-list'><li class='xr-var-item'><div class='xr-var-name'><span>elevation</span></div><div class='xr-var-dims'>(lat, lon)</div><div class='xr-var-dtype'>int16</div><div class='xr-var-preview xr-preview'>...</div><input id='attrs-f1ad1fee-62b0-47dd-a5c6-385625cfeef8' class='xr-var-attrs-in' type='checkbox' ><label for='attrs-f1ad1fee-62b0-47dd-a5c6-385625cfeef8' title='Show/Hide attributes'><svg class='icon xr-icon-file-text2'><use xlink:href='#icon-file-text2'></use></svg></label><input id='data-693d3d54-52d6-4278-9938-c04dda12fe42' class='xr-var-data-in' type='checkbox'><label for='data-693d3d54-52d6-4278-9938-c04dda12fe42' title='Show/Hide data repr'><svg class='icon xr-icon-database'><use xlink:href='#icon-database'></use></svg></label><div class='xr-var-attrs'><dl class='xr-attrs'><dt><span>standard_name :</span></dt><dd>height_above_mean_sea_level</dd><dt><span>long_name :</span></dt><dd>Elevation relative to sea level</dd><dt><span>units :</span></dt><dd>m</dd><dt><span>grid_mapping :</span></dt><dd>crs</dd><dt><span>sdn_parameter_urn :</span></dt><dd>SDN:P01::ALATZZ01</dd><dt><span>sdn_parameter_name :</span></dt><dd>Sea floor height (above mean sea level) {bathymetric height}</dd><dt><span>sdn_uom_urn :</span></dt><dd>SDN:P06::ULAA</dd><dt><span>sdn_uom_name :</span></dt><dd>Metres</dd></dl></div><div class='xr-var-data'><pre>[4090738 values with dtype=int16]</pre></div></li></ul></div></li><li class='xr-section-item'><input id='section-2eaba38a-9de0-46c2-813a-2cae7daf489a' class='xr-section-summary-in' type='checkbox'  ><label for='section-2eaba38a-9de0-46c2-813a-2cae7daf489a' class='xr-section-summary' >Indexes: <span>(2)</span></label><div class='xr-section-inline-details'></div><div class='xr-section-details'><ul class='xr-var-list'><li class='xr-var-item'><div class='xr-index-name'><div>lat</div></div><div class='xr-index-preview'>PandasIndex</div><div></div><input id='index-f15d6f6f-5734-4214-9a55-6a66cf67327a' class='xr-index-data-in' type='checkbox'/><label for='index-f15d6f6f-5734-4214-9a55-6a66cf67327a' title='Show/Hide index repr'><svg class='icon xr-icon-database'><use xlink:href='#icon-database'></use></svg></label><div class='xr-index-data'><pre>PandasIndex(Float64Index([45.022916666666674,  45.02708333333334,           45.03125,\n               45.03541666666666, 45.039583333333326,  45.04374999999999,\n               45.04791666666665,  45.05208333333334, 45.056250000000006,\n               45.06041666666667,\n              ...\n               51.55208333333334, 51.556250000000006,  51.56041666666667,\n               51.56458333333333, 51.568749999999994,  51.57291666666666,\n               51.57708333333332,  51.58125000000001, 51.585416666666674,\n               51.58958333333334],\n             dtype=&#x27;float64&#x27;, name=&#x27;lat&#x27;, length=1577))</pre></div></li><li class='xr-var-item'><div class='xr-index-name'><div>lon</div></div><div class='xr-index-preview'>PandasIndex</div><div></div><input id='index-c6f489e3-d4f5-4031-9e77-530a87fb2fdf' class='xr-index-data-in' type='checkbox'/><label for='index-c6f489e3-d4f5-4031-9e77-530a87fb2fdf' title='Show/Hide index repr'><svg class='icon xr-icon-database'><use xlink:href='#icon-database'></use></svg></label><div class='xr-index-data'><pre>PandasIndex(Float64Index([          -68.41875,  -68.41458333333334,  -68.41041666666666,\n                        -68.40625,  -68.40208333333334,  -68.39791666666667,\n                        -68.39375,  -68.38958333333333,  -68.38541666666667,\n               -68.38125000000001,\n              ...\n               -57.65208333333334, -57.647916666666674,           -57.64375,\n              -57.639583333333334,  -57.63541666666667,  -57.63125000000001,\n               -57.62708333333333,  -57.62291666666667, -57.618750000000006,\n               -57.61458333333333],\n             dtype=&#x27;float64&#x27;, name=&#x27;lon&#x27;, length=2594))</pre></div></li></ul></div></li><li class='xr-section-item'><input id='section-1e3ef220-f122-443d-8aa8-4db9dc53ff00' class='xr-section-summary-in' type='checkbox'  ><label for='section-1e3ef220-f122-443d-8aa8-4db9dc53ff00' class='xr-section-summary' >Attributes: <span>(36)</span></label><div class='xr-section-inline-details'></div><div class='xr-section-details'><dl class='xr-attrs'><dt><span>title :</span></dt><dd>The GEBCO_2023 Grid - a continuous terrain model for oceans and land at 15 arc-second intervals</dd><dt><span>summary :</span></dt><dd>The GEBCO_2023 Grid is a continuous, global terrain model for ocean and land with a spatial resolution of 15 arc seconds.The grid uses as a base-map Version 2.5.5 of the SRTM15+ data set (Tozer et al, 2019). This data set is a fusion of land topography with measured and estimated seafloor topography. It is augmented with gridded bathymetric data sets developed as part of the Nippon Foundation-GEBCO Seabed 2030 Project.</dd><dt><span>keywords :</span></dt><dd>BATHYMETRY/SEAFLOOR TOPOGRAPHY, DIGITAL ELEVATION/DIGITAL TERRAIN MODELS</dd><dt><span>Conventions :</span></dt><dd>CF-1.6, ACDD-1.3</dd><dt><span>id :</span></dt><dd>DOI: 10.5285/f98b053b-0cbc-6c23-e053-6c86abc0af7b</dd><dt><span>naming_authority :</span></dt><dd>https://dx.doi.org</dd><dt><span>history :</span></dt><dd>Information on the development of the data set and the source data sets included in the grid can be found in the data set documentation available from https://www.gebco.net</dd><dt><span>source :</span></dt><dd>The GEBCO_2023 Grid is the 2023 version of the global bathymetric product released by the General Bathymetric Chart of the Oceans (GEBCO) and has been developed through the Nippon Foundation-GEBCO Seabed 2030 Project. This is a collaborative project between the Nippon Foundation of Japan and GEBCO. The Seabed 2030 Project aims to bring together all available bathymetric data to produce the definitive map of the world ocean floor and make it available to all.</dd><dt><span>comment :</span></dt><dd>The data in the GEBCO_2023 Grid should not be used for navigation or any purpose relating to safety at sea.</dd><dt><span>license :</span></dt><dd>The GEBCO Grid is placed in the public domain and may be used free of charge. Use of the GEBCO Grid indicates that the user accepts the conditions of use and disclaimer information: https://www.gebco.net/data_and_products/gridded_bathymetry_data/gebco_2019/grid_terms_of_use.html</dd><dt><span>date_created :</span></dt><dd>2023-05-18</dd><dt><span>creator_name :</span></dt><dd>GEBCO through the Nippon Foundation-GEBCO Seabed 2030 Project</dd><dt><span>creator_email :</span></dt><dd>gdacc@seabed2030.org</dd><dt><span>creator_url :</span></dt><dd>https://www.gebco.net</dd><dt><span>institution :</span></dt><dd>On behalf of the General Bathymetric Chart of the Oceans (GEBCO), the data are held at the British Oceanographic Data Centre (BODC).</dd><dt><span>project :</span></dt><dd>Nippon Foundation - GEBCO Seabed2030 Project</dd><dt><span>creator_type :</span></dt><dd>International organisation</dd><dt><span>geospatial_bounds :</span></dt><dd>[-180.  -90.  180.   90.]</dd><dt><span>geospatial_bounds_crs :</span></dt><dd>WGS84</dd><dt><span>geospatial_bounds_vertical_crs :</span></dt><dd>EPSG:5831</dd><dt><span>geospatial_lat_min :</span></dt><dd>-90.0</dd><dt><span>geospatial_lat_max :</span></dt><dd>90.0</dd><dt><span>geospatial_lat_units :</span></dt><dd>degrees_north</dd><dt><span>geospatial_lat_resolution :</span></dt><dd>0.004166666666666667</dd><dt><span>geospatial_lon_min :</span></dt><dd>-180.0</dd><dt><span>geospatial_lon_max :</span></dt><dd>180.0</dd><dt><span>geospatial_lon_units :</span></dt><dd>degrees_east</dd><dt><span>geospatial_lon_resolution :</span></dt><dd>0.004166666666666667</dd><dt><span>geospatial_vertical_min :</span></dt><dd>-10921.0</dd><dt><span>geospatial_vertical_max :</span></dt><dd>8627.0</dd><dt><span>geospatial_vertical_units :</span></dt><dd>meters</dd><dt><span>geospatial_vertical_resolution :</span></dt><dd>1.0</dd><dt><span>geospatial_vertical_positive :</span></dt><dd>up</dd><dt><span>identifier_product_doi :</span></dt><dd>DOI: 10.5285/f98b053b-0cbc-6c23-e053-6c86abc0af7b</dd><dt><span>references :</span></dt><dd>DOI: 10.5285/f98b053b-0cbc-6c23-e053-6c86abc0af7b</dd><dt><span>node_offset :</span></dt><dd>1.0</dd></dl></div></li></ul></div></div>"
     },
     "execution_count": 74,
     "metadata": {},
     "output_type": "execute_result"
    }
   ],
   "source": [
    "import xarray as xr\n",
    "\n",
    "dataset = xr.open_dataset(file_path)\n",
    "\n",
    "dataset\n"
   ],
   "metadata": {
    "collapsed": false,
    "ExecuteTime": {
     "end_time": "2024-04-09T01:22:09.796425200Z",
     "start_time": "2024-04-09T01:22:09.745934700Z"
    }
   }
  },
  {
   "cell_type": "code",
   "execution_count": 96,
   "outputs": [
    {
     "name": "stdout",
     "output_type": "stream",
     "text": [
      "\n",
      "the elevation at (47.87,-60.24) is -492m. \n"
     ]
    }
   ],
   "source": [
    "lat=47.87\n",
    "lon=-60.24\n",
    "\n",
    "subset = dataset.sel(lat=lat,lon=lon, method=\"nearest\")\n",
    "print(f\"\"\"\n",
    "the elevation at ({lat},{lon}) is {subset.elevation.values}{subset.elevation.units}. \n",
    "\"\"\")\n",
    "    \n",
    "    "
   ],
   "metadata": {
    "collapsed": false,
    "ExecuteTime": {
     "end_time": "2024-04-09T01:34:26.460202500Z",
     "start_time": "2024-04-09T01:34:26.405340Z"
    }
   }
  }
 ],
 "metadata": {
  "kernelspec": {
   "display_name": "Python 3",
   "language": "python",
   "name": "python3"
  },
  "language_info": {
   "codemirror_mode": {
    "name": "ipython",
    "version": 3
   },
   "file_extension": ".py",
   "mimetype": "text/x-python",
   "name": "python",
   "nbconvert_exporter": "python",
   "pygments_lexer": "ipython3",
   "version": "3.12.2"
  },
  "colab": {
   "provenance": []
  }
 },
 "nbformat": 4,
 "nbformat_minor": 0
}
